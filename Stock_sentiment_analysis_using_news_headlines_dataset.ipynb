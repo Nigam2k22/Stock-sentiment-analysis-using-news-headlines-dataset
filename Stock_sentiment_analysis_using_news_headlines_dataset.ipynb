{
  "nbformat": 4,
  "nbformat_minor": 0,
  "metadata": {
    "colab": {
      "provenance": []
    },
    "kernelspec": {
      "name": "python3",
      "display_name": "Python 3"
    },
    "language_info": {
      "name": "python"
    }
  },
  "cells": [
    {
      "cell_type": "code",
      "execution_count": 2,
      "metadata": {
        "id": "NbNa8iLKuwQ_"
      },
      "outputs": [],
      "source": [
        "import pandas as pd\n",
        "import numpy as np\n"
      ]
    },
    {
      "cell_type": "code",
      "source": [
        "df = pd.read_csv('/content/drive/MyDrive/NLP P1/Data.csv', encoding = \"ISO-8859-1\")"
      ],
      "metadata": {
        "id": "lfCk6fpevM6H"
      },
      "execution_count": 3,
      "outputs": []
    },
    {
      "cell_type": "code",
      "source": [
        "df.head(3)"
      ],
      "metadata": {
        "colab": {
          "base_uri": "https://localhost:8080/",
          "height": 584
        },
        "id": "lyr04DfYwtx_",
        "outputId": "68d803bc-93b0-457e-fc4e-4327c085396a"
      },
      "execution_count": 4,
      "outputs": [
        {
          "output_type": "execute_result",
          "data": {
            "text/plain": [
              "         Date  Label                                               Top1  \\\n",
              "0  2000-01-03      0  A 'hindrance to operations': extracts from the...   \n",
              "1  2000-01-04      0                                          Scorecard   \n",
              "2  2000-01-05      0                  Coventry caught on counter by Flo   \n",
              "\n",
              "                                 Top2  \\\n",
              "0                           Scorecard   \n",
              "1                 The best lake scene   \n",
              "2  United's rivals on the road to Rio   \n",
              "\n",
              "                                            Top3  \\\n",
              "0                Hughes' instant hit buoys Blues   \n",
              "1                  Leader: German sleaze inquiry   \n",
              "2  Thatcher issues defence before trial by video   \n",
              "\n",
              "                                            Top4  \\\n",
              "0       Jack gets his skates on at ice-cold Alex   \n",
              "1                                  Cheerio, boyo   \n",
              "2  Police help Smith lay down the law at Everton   \n",
              "\n",
              "                                          Top5  \\\n",
              "0       Chaos as Maracana builds up for United   \n",
              "1                     The main recommendations   \n",
              "2  Tale of Trautmann bears two more retellings   \n",
              "\n",
              "                                                Top6  \\\n",
              "0  Depleted Leicester prevail as Elliott spoils E...   \n",
              "1                             Has Cubie killed fees?   \n",
              "2                                England on the rack   \n",
              "\n",
              "                                              Top7  \\\n",
              "0                 Hungry Spurs sense rich pickings   \n",
              "1                           Has Cubie killed fees?   \n",
              "2  Pakistan retaliate with call for video of Walsh   \n",
              "\n",
              "                                   Top8  ...  \\\n",
              "0     Gunners so wide of an easy target  ...   \n",
              "1                Has Cubie killed fees?  ...   \n",
              "2  Cullinan continues his Cape monopoly  ...   \n",
              "\n",
              "                                      Top16  \\\n",
              "0  Flintoff injury piles on woe for England   \n",
              "1                      On the critical list   \n",
              "2               South Melbourne (Australia)   \n",
              "\n",
              "                                               Top17  \\\n",
              "0  Hunters threaten Jospin with new battle of the...   \n",
              "1                          The timing of their lives   \n",
              "2                                    Necaxa (Mexico)   \n",
              "\n",
              "                                 Top18  \\\n",
              "0  Kohl's successor drawn into scandal   \n",
              "1                          Dear doctor   \n",
              "2                  Real Madrid (Spain)   \n",
              "\n",
              "                                               Top19  \\\n",
              "0               The difference between men and women   \n",
              "1  Irish court halts IRA man's extradition to Nor...   \n",
              "2                          Raja Casablanca (Morocco)   \n",
              "\n",
              "                                               Top20  \\\n",
              "0                Sara Denver, nurse turned solicitor   \n",
              "1  Burundi peace initiative fades after rebels re...   \n",
              "2                               Corinthians (Brazil)   \n",
              "\n",
              "                                            Top21  \\\n",
              "0  Diana's landmine crusade put Tories in a panic   \n",
              "1            PE points the way forward to the ECB   \n",
              "2                              Tony's pet project   \n",
              "\n",
              "                                               Top22              Top23  \\\n",
              "0  Yeltsin's resignation caught opposition flat-f...   Russian roulette   \n",
              "1  Campaigners keep up pressure on Nazi war crime...     Jane Ratcliffe   \n",
              "2                            Al Nassr (Saudi Arabia)  Ideal Holmes show   \n",
              "\n",
              "                                               Top24  \\\n",
              "0                                           Sold out   \n",
              "1  Yet more things you wouldn't know without the ...   \n",
              "2               Pinochet leaves hospital after tests   \n",
              "\n",
              "                          Top25  \n",
              "0            Recovering a title  \n",
              "1  Millennium bug fails to bite  \n",
              "2                  Useful links  \n",
              "\n",
              "[3 rows x 27 columns]"
            ],
            "text/html": [
              "\n",
              "  <div id=\"df-f3d8f736-2489-44b5-be63-297bc41eac81\">\n",
              "    <div class=\"colab-df-container\">\n",
              "      <div>\n",
              "<style scoped>\n",
              "    .dataframe tbody tr th:only-of-type {\n",
              "        vertical-align: middle;\n",
              "    }\n",
              "\n",
              "    .dataframe tbody tr th {\n",
              "        vertical-align: top;\n",
              "    }\n",
              "\n",
              "    .dataframe thead th {\n",
              "        text-align: right;\n",
              "    }\n",
              "</style>\n",
              "<table border=\"1\" class=\"dataframe\">\n",
              "  <thead>\n",
              "    <tr style=\"text-align: right;\">\n",
              "      <th></th>\n",
              "      <th>Date</th>\n",
              "      <th>Label</th>\n",
              "      <th>Top1</th>\n",
              "      <th>Top2</th>\n",
              "      <th>Top3</th>\n",
              "      <th>Top4</th>\n",
              "      <th>Top5</th>\n",
              "      <th>Top6</th>\n",
              "      <th>Top7</th>\n",
              "      <th>Top8</th>\n",
              "      <th>...</th>\n",
              "      <th>Top16</th>\n",
              "      <th>Top17</th>\n",
              "      <th>Top18</th>\n",
              "      <th>Top19</th>\n",
              "      <th>Top20</th>\n",
              "      <th>Top21</th>\n",
              "      <th>Top22</th>\n",
              "      <th>Top23</th>\n",
              "      <th>Top24</th>\n",
              "      <th>Top25</th>\n",
              "    </tr>\n",
              "  </thead>\n",
              "  <tbody>\n",
              "    <tr>\n",
              "      <th>0</th>\n",
              "      <td>2000-01-03</td>\n",
              "      <td>0</td>\n",
              "      <td>A 'hindrance to operations': extracts from the...</td>\n",
              "      <td>Scorecard</td>\n",
              "      <td>Hughes' instant hit buoys Blues</td>\n",
              "      <td>Jack gets his skates on at ice-cold Alex</td>\n",
              "      <td>Chaos as Maracana builds up for United</td>\n",
              "      <td>Depleted Leicester prevail as Elliott spoils E...</td>\n",
              "      <td>Hungry Spurs sense rich pickings</td>\n",
              "      <td>Gunners so wide of an easy target</td>\n",
              "      <td>...</td>\n",
              "      <td>Flintoff injury piles on woe for England</td>\n",
              "      <td>Hunters threaten Jospin with new battle of the...</td>\n",
              "      <td>Kohl's successor drawn into scandal</td>\n",
              "      <td>The difference between men and women</td>\n",
              "      <td>Sara Denver, nurse turned solicitor</td>\n",
              "      <td>Diana's landmine crusade put Tories in a panic</td>\n",
              "      <td>Yeltsin's resignation caught opposition flat-f...</td>\n",
              "      <td>Russian roulette</td>\n",
              "      <td>Sold out</td>\n",
              "      <td>Recovering a title</td>\n",
              "    </tr>\n",
              "    <tr>\n",
              "      <th>1</th>\n",
              "      <td>2000-01-04</td>\n",
              "      <td>0</td>\n",
              "      <td>Scorecard</td>\n",
              "      <td>The best lake scene</td>\n",
              "      <td>Leader: German sleaze inquiry</td>\n",
              "      <td>Cheerio, boyo</td>\n",
              "      <td>The main recommendations</td>\n",
              "      <td>Has Cubie killed fees?</td>\n",
              "      <td>Has Cubie killed fees?</td>\n",
              "      <td>Has Cubie killed fees?</td>\n",
              "      <td>...</td>\n",
              "      <td>On the critical list</td>\n",
              "      <td>The timing of their lives</td>\n",
              "      <td>Dear doctor</td>\n",
              "      <td>Irish court halts IRA man's extradition to Nor...</td>\n",
              "      <td>Burundi peace initiative fades after rebels re...</td>\n",
              "      <td>PE points the way forward to the ECB</td>\n",
              "      <td>Campaigners keep up pressure on Nazi war crime...</td>\n",
              "      <td>Jane Ratcliffe</td>\n",
              "      <td>Yet more things you wouldn't know without the ...</td>\n",
              "      <td>Millennium bug fails to bite</td>\n",
              "    </tr>\n",
              "    <tr>\n",
              "      <th>2</th>\n",
              "      <td>2000-01-05</td>\n",
              "      <td>0</td>\n",
              "      <td>Coventry caught on counter by Flo</td>\n",
              "      <td>United's rivals on the road to Rio</td>\n",
              "      <td>Thatcher issues defence before trial by video</td>\n",
              "      <td>Police help Smith lay down the law at Everton</td>\n",
              "      <td>Tale of Trautmann bears two more retellings</td>\n",
              "      <td>England on the rack</td>\n",
              "      <td>Pakistan retaliate with call for video of Walsh</td>\n",
              "      <td>Cullinan continues his Cape monopoly</td>\n",
              "      <td>...</td>\n",
              "      <td>South Melbourne (Australia)</td>\n",
              "      <td>Necaxa (Mexico)</td>\n",
              "      <td>Real Madrid (Spain)</td>\n",
              "      <td>Raja Casablanca (Morocco)</td>\n",
              "      <td>Corinthians (Brazil)</td>\n",
              "      <td>Tony's pet project</td>\n",
              "      <td>Al Nassr (Saudi Arabia)</td>\n",
              "      <td>Ideal Holmes show</td>\n",
              "      <td>Pinochet leaves hospital after tests</td>\n",
              "      <td>Useful links</td>\n",
              "    </tr>\n",
              "  </tbody>\n",
              "</table>\n",
              "<p>3 rows × 27 columns</p>\n",
              "</div>\n",
              "      <button class=\"colab-df-convert\" onclick=\"convertToInteractive('df-f3d8f736-2489-44b5-be63-297bc41eac81')\"\n",
              "              title=\"Convert this dataframe to an interactive table.\"\n",
              "              style=\"display:none;\">\n",
              "        \n",
              "  <svg xmlns=\"http://www.w3.org/2000/svg\" height=\"24px\"viewBox=\"0 0 24 24\"\n",
              "       width=\"24px\">\n",
              "    <path d=\"M0 0h24v24H0V0z\" fill=\"none\"/>\n",
              "    <path d=\"M18.56 5.44l.94 2.06.94-2.06 2.06-.94-2.06-.94-.94-2.06-.94 2.06-2.06.94zm-11 1L8.5 8.5l.94-2.06 2.06-.94-2.06-.94L8.5 2.5l-.94 2.06-2.06.94zm10 10l.94 2.06.94-2.06 2.06-.94-2.06-.94-.94-2.06-.94 2.06-2.06.94z\"/><path d=\"M17.41 7.96l-1.37-1.37c-.4-.4-.92-.59-1.43-.59-.52 0-1.04.2-1.43.59L10.3 9.45l-7.72 7.72c-.78.78-.78 2.05 0 2.83L4 21.41c.39.39.9.59 1.41.59.51 0 1.02-.2 1.41-.59l7.78-7.78 2.81-2.81c.8-.78.8-2.07 0-2.86zM5.41 20L4 18.59l7.72-7.72 1.47 1.35L5.41 20z\"/>\n",
              "  </svg>\n",
              "      </button>\n",
              "      \n",
              "  <style>\n",
              "    .colab-df-container {\n",
              "      display:flex;\n",
              "      flex-wrap:wrap;\n",
              "      gap: 12px;\n",
              "    }\n",
              "\n",
              "    .colab-df-convert {\n",
              "      background-color: #E8F0FE;\n",
              "      border: none;\n",
              "      border-radius: 50%;\n",
              "      cursor: pointer;\n",
              "      display: none;\n",
              "      fill: #1967D2;\n",
              "      height: 32px;\n",
              "      padding: 0 0 0 0;\n",
              "      width: 32px;\n",
              "    }\n",
              "\n",
              "    .colab-df-convert:hover {\n",
              "      background-color: #E2EBFA;\n",
              "      box-shadow: 0px 1px 2px rgba(60, 64, 67, 0.3), 0px 1px 3px 1px rgba(60, 64, 67, 0.15);\n",
              "      fill: #174EA6;\n",
              "    }\n",
              "\n",
              "    [theme=dark] .colab-df-convert {\n",
              "      background-color: #3B4455;\n",
              "      fill: #D2E3FC;\n",
              "    }\n",
              "\n",
              "    [theme=dark] .colab-df-convert:hover {\n",
              "      background-color: #434B5C;\n",
              "      box-shadow: 0px 1px 3px 1px rgba(0, 0, 0, 0.15);\n",
              "      filter: drop-shadow(0px 1px 2px rgba(0, 0, 0, 0.3));\n",
              "      fill: #FFFFFF;\n",
              "    }\n",
              "  </style>\n",
              "\n",
              "      <script>\n",
              "        const buttonEl =\n",
              "          document.querySelector('#df-f3d8f736-2489-44b5-be63-297bc41eac81 button.colab-df-convert');\n",
              "        buttonEl.style.display =\n",
              "          google.colab.kernel.accessAllowed ? 'block' : 'none';\n",
              "\n",
              "        async function convertToInteractive(key) {\n",
              "          const element = document.querySelector('#df-f3d8f736-2489-44b5-be63-297bc41eac81');\n",
              "          const dataTable =\n",
              "            await google.colab.kernel.invokeFunction('convertToInteractive',\n",
              "                                                     [key], {});\n",
              "          if (!dataTable) return;\n",
              "\n",
              "          const docLinkHtml = 'Like what you see? Visit the ' +\n",
              "            '<a target=\"_blank\" href=https://colab.research.google.com/notebooks/data_table.ipynb>data table notebook</a>'\n",
              "            + ' to learn more about interactive tables.';\n",
              "          element.innerHTML = '';\n",
              "          dataTable['output_type'] = 'display_data';\n",
              "          await google.colab.output.renderOutput(dataTable, element);\n",
              "          const docLink = document.createElement('div');\n",
              "          docLink.innerHTML = docLinkHtml;\n",
              "          element.appendChild(docLink);\n",
              "        }\n",
              "      </script>\n",
              "    </div>\n",
              "  </div>\n",
              "  "
            ]
          },
          "metadata": {},
          "execution_count": 4
        }
      ]
    },
    {
      "cell_type": "code",
      "source": [
        "train = df[df['Date'] < '20150101']\n",
        "test = df[df['Date'] > '20141231']"
      ],
      "metadata": {
        "id": "s4qz_rk-5gZi"
      },
      "execution_count": 5,
      "outputs": []
    },
    {
      "cell_type": "code",
      "source": [
        "data = train.iloc[: , 2:27]\n",
        "data.replace('[^a-zA-Z]', \" \", regex = True , inplace = True)"
      ],
      "metadata": {
        "id": "6CTIzWh070Qo"
      },
      "execution_count": 6,
      "outputs": []
    },
    {
      "cell_type": "code",
      "source": [
        "data.head(3)"
      ],
      "metadata": {
        "colab": {
          "base_uri": "https://localhost:8080/",
          "height": 584
        },
        "id": "OO4_1vGD8pbH",
        "outputId": "f6b25654-ac67-4295-c44b-e60ab6da7b38"
      },
      "execution_count": 7,
      "outputs": [
        {
          "output_type": "execute_result",
          "data": {
            "text/plain": [
              "                                                Top1  \\\n",
              "0  A  hindrance to operations   extracts from the...   \n",
              "1                                          Scorecard   \n",
              "2                  Coventry caught on counter by Flo   \n",
              "\n",
              "                                 Top2  \\\n",
              "0                           Scorecard   \n",
              "1                 The best lake scene   \n",
              "2  United s rivals on the road to Rio   \n",
              "\n",
              "                                            Top3  \\\n",
              "0                Hughes  instant hit buoys Blues   \n",
              "1                  Leader  German sleaze inquiry   \n",
              "2  Thatcher issues defence before trial by video   \n",
              "\n",
              "                                            Top4  \\\n",
              "0       Jack gets his skates on at ice cold Alex   \n",
              "1                                  Cheerio  boyo   \n",
              "2  Police help Smith lay down the law at Everton   \n",
              "\n",
              "                                          Top5  \\\n",
              "0       Chaos as Maracana builds up for United   \n",
              "1                     The main recommendations   \n",
              "2  Tale of Trautmann bears two more retellings   \n",
              "\n",
              "                                                Top6  \\\n",
              "0  Depleted Leicester prevail as Elliott spoils E...   \n",
              "1                             Has Cubie killed fees    \n",
              "2                                England on the rack   \n",
              "\n",
              "                                              Top7  \\\n",
              "0                 Hungry Spurs sense rich pickings   \n",
              "1                           Has Cubie killed fees    \n",
              "2  Pakistan retaliate with call for video of Walsh   \n",
              "\n",
              "                                   Top8  \\\n",
              "0     Gunners so wide of an easy target   \n",
              "1                Has Cubie killed fees    \n",
              "2  Cullinan continues his Cape monopoly   \n",
              "\n",
              "                                                Top9  \\\n",
              "0      Derby raise a glass to Strupar s debut double   \n",
              "1  Hopkins  furious  at Foster s lack of Hannibal...   \n",
              "2             McGrath puts India out of their misery   \n",
              "\n",
              "                                      Top10  ...  \\\n",
              "0  Southgate strikes  Leeds pay the penalty  ...   \n",
              "1                    Has Cubie killed fees   ...   \n",
              "2            Blair Witch bandwagon rolls on  ...   \n",
              "\n",
              "                                      Top16  \\\n",
              "0  Flintoff injury piles on woe for England   \n",
              "1                      On the critical list   \n",
              "2               South Melbourne  Australia    \n",
              "\n",
              "                                               Top17  \\\n",
              "0  Hunters threaten Jospin with new battle of the...   \n",
              "1                          The timing of their lives   \n",
              "2                                    Necaxa  Mexico    \n",
              "\n",
              "                                 Top18  \\\n",
              "0  Kohl s successor drawn into scandal   \n",
              "1                          Dear doctor   \n",
              "2                  Real Madrid  Spain    \n",
              "\n",
              "                                               Top19  \\\n",
              "0               The difference between men and women   \n",
              "1  Irish court halts IRA man s extradition to Nor...   \n",
              "2                          Raja Casablanca  Morocco    \n",
              "\n",
              "                                               Top20  \\\n",
              "0                Sara Denver  nurse turned solicitor   \n",
              "1  Burundi peace initiative fades after rebels re...   \n",
              "2                               Corinthians  Brazil    \n",
              "\n",
              "                                            Top21  \\\n",
              "0  Diana s landmine crusade put Tories in a panic   \n",
              "1            PE points the way forward to the ECB   \n",
              "2                              Tony s pet project   \n",
              "\n",
              "                                               Top22              Top23  \\\n",
              "0  Yeltsin s resignation caught opposition flat f...   Russian roulette   \n",
              "1  Campaigners keep up pressure on Nazi war crime...     Jane Ratcliffe   \n",
              "2                            Al Nassr  Saudi Arabia   Ideal Holmes show   \n",
              "\n",
              "                                               Top24  \\\n",
              "0                                           Sold out   \n",
              "1  Yet more things you wouldn t know without the ...   \n",
              "2               Pinochet leaves hospital after tests   \n",
              "\n",
              "                          Top25  \n",
              "0            Recovering a title  \n",
              "1  Millennium bug fails to bite  \n",
              "2                  Useful links  \n",
              "\n",
              "[3 rows x 25 columns]"
            ],
            "text/html": [
              "\n",
              "  <div id=\"df-3919ab31-3375-41e7-ac4e-6aa54169e1c5\">\n",
              "    <div class=\"colab-df-container\">\n",
              "      <div>\n",
              "<style scoped>\n",
              "    .dataframe tbody tr th:only-of-type {\n",
              "        vertical-align: middle;\n",
              "    }\n",
              "\n",
              "    .dataframe tbody tr th {\n",
              "        vertical-align: top;\n",
              "    }\n",
              "\n",
              "    .dataframe thead th {\n",
              "        text-align: right;\n",
              "    }\n",
              "</style>\n",
              "<table border=\"1\" class=\"dataframe\">\n",
              "  <thead>\n",
              "    <tr style=\"text-align: right;\">\n",
              "      <th></th>\n",
              "      <th>Top1</th>\n",
              "      <th>Top2</th>\n",
              "      <th>Top3</th>\n",
              "      <th>Top4</th>\n",
              "      <th>Top5</th>\n",
              "      <th>Top6</th>\n",
              "      <th>Top7</th>\n",
              "      <th>Top8</th>\n",
              "      <th>Top9</th>\n",
              "      <th>Top10</th>\n",
              "      <th>...</th>\n",
              "      <th>Top16</th>\n",
              "      <th>Top17</th>\n",
              "      <th>Top18</th>\n",
              "      <th>Top19</th>\n",
              "      <th>Top20</th>\n",
              "      <th>Top21</th>\n",
              "      <th>Top22</th>\n",
              "      <th>Top23</th>\n",
              "      <th>Top24</th>\n",
              "      <th>Top25</th>\n",
              "    </tr>\n",
              "  </thead>\n",
              "  <tbody>\n",
              "    <tr>\n",
              "      <th>0</th>\n",
              "      <td>A  hindrance to operations   extracts from the...</td>\n",
              "      <td>Scorecard</td>\n",
              "      <td>Hughes  instant hit buoys Blues</td>\n",
              "      <td>Jack gets his skates on at ice cold Alex</td>\n",
              "      <td>Chaos as Maracana builds up for United</td>\n",
              "      <td>Depleted Leicester prevail as Elliott spoils E...</td>\n",
              "      <td>Hungry Spurs sense rich pickings</td>\n",
              "      <td>Gunners so wide of an easy target</td>\n",
              "      <td>Derby raise a glass to Strupar s debut double</td>\n",
              "      <td>Southgate strikes  Leeds pay the penalty</td>\n",
              "      <td>...</td>\n",
              "      <td>Flintoff injury piles on woe for England</td>\n",
              "      <td>Hunters threaten Jospin with new battle of the...</td>\n",
              "      <td>Kohl s successor drawn into scandal</td>\n",
              "      <td>The difference between men and women</td>\n",
              "      <td>Sara Denver  nurse turned solicitor</td>\n",
              "      <td>Diana s landmine crusade put Tories in a panic</td>\n",
              "      <td>Yeltsin s resignation caught opposition flat f...</td>\n",
              "      <td>Russian roulette</td>\n",
              "      <td>Sold out</td>\n",
              "      <td>Recovering a title</td>\n",
              "    </tr>\n",
              "    <tr>\n",
              "      <th>1</th>\n",
              "      <td>Scorecard</td>\n",
              "      <td>The best lake scene</td>\n",
              "      <td>Leader  German sleaze inquiry</td>\n",
              "      <td>Cheerio  boyo</td>\n",
              "      <td>The main recommendations</td>\n",
              "      <td>Has Cubie killed fees</td>\n",
              "      <td>Has Cubie killed fees</td>\n",
              "      <td>Has Cubie killed fees</td>\n",
              "      <td>Hopkins  furious  at Foster s lack of Hannibal...</td>\n",
              "      <td>Has Cubie killed fees</td>\n",
              "      <td>...</td>\n",
              "      <td>On the critical list</td>\n",
              "      <td>The timing of their lives</td>\n",
              "      <td>Dear doctor</td>\n",
              "      <td>Irish court halts IRA man s extradition to Nor...</td>\n",
              "      <td>Burundi peace initiative fades after rebels re...</td>\n",
              "      <td>PE points the way forward to the ECB</td>\n",
              "      <td>Campaigners keep up pressure on Nazi war crime...</td>\n",
              "      <td>Jane Ratcliffe</td>\n",
              "      <td>Yet more things you wouldn t know without the ...</td>\n",
              "      <td>Millennium bug fails to bite</td>\n",
              "    </tr>\n",
              "    <tr>\n",
              "      <th>2</th>\n",
              "      <td>Coventry caught on counter by Flo</td>\n",
              "      <td>United s rivals on the road to Rio</td>\n",
              "      <td>Thatcher issues defence before trial by video</td>\n",
              "      <td>Police help Smith lay down the law at Everton</td>\n",
              "      <td>Tale of Trautmann bears two more retellings</td>\n",
              "      <td>England on the rack</td>\n",
              "      <td>Pakistan retaliate with call for video of Walsh</td>\n",
              "      <td>Cullinan continues his Cape monopoly</td>\n",
              "      <td>McGrath puts India out of their misery</td>\n",
              "      <td>Blair Witch bandwagon rolls on</td>\n",
              "      <td>...</td>\n",
              "      <td>South Melbourne  Australia</td>\n",
              "      <td>Necaxa  Mexico</td>\n",
              "      <td>Real Madrid  Spain</td>\n",
              "      <td>Raja Casablanca  Morocco</td>\n",
              "      <td>Corinthians  Brazil</td>\n",
              "      <td>Tony s pet project</td>\n",
              "      <td>Al Nassr  Saudi Arabia</td>\n",
              "      <td>Ideal Holmes show</td>\n",
              "      <td>Pinochet leaves hospital after tests</td>\n",
              "      <td>Useful links</td>\n",
              "    </tr>\n",
              "  </tbody>\n",
              "</table>\n",
              "<p>3 rows × 25 columns</p>\n",
              "</div>\n",
              "      <button class=\"colab-df-convert\" onclick=\"convertToInteractive('df-3919ab31-3375-41e7-ac4e-6aa54169e1c5')\"\n",
              "              title=\"Convert this dataframe to an interactive table.\"\n",
              "              style=\"display:none;\">\n",
              "        \n",
              "  <svg xmlns=\"http://www.w3.org/2000/svg\" height=\"24px\"viewBox=\"0 0 24 24\"\n",
              "       width=\"24px\">\n",
              "    <path d=\"M0 0h24v24H0V0z\" fill=\"none\"/>\n",
              "    <path d=\"M18.56 5.44l.94 2.06.94-2.06 2.06-.94-2.06-.94-.94-2.06-.94 2.06-2.06.94zm-11 1L8.5 8.5l.94-2.06 2.06-.94-2.06-.94L8.5 2.5l-.94 2.06-2.06.94zm10 10l.94 2.06.94-2.06 2.06-.94-2.06-.94-.94-2.06-.94 2.06-2.06.94z\"/><path d=\"M17.41 7.96l-1.37-1.37c-.4-.4-.92-.59-1.43-.59-.52 0-1.04.2-1.43.59L10.3 9.45l-7.72 7.72c-.78.78-.78 2.05 0 2.83L4 21.41c.39.39.9.59 1.41.59.51 0 1.02-.2 1.41-.59l7.78-7.78 2.81-2.81c.8-.78.8-2.07 0-2.86zM5.41 20L4 18.59l7.72-7.72 1.47 1.35L5.41 20z\"/>\n",
              "  </svg>\n",
              "      </button>\n",
              "      \n",
              "  <style>\n",
              "    .colab-df-container {\n",
              "      display:flex;\n",
              "      flex-wrap:wrap;\n",
              "      gap: 12px;\n",
              "    }\n",
              "\n",
              "    .colab-df-convert {\n",
              "      background-color: #E8F0FE;\n",
              "      border: none;\n",
              "      border-radius: 50%;\n",
              "      cursor: pointer;\n",
              "      display: none;\n",
              "      fill: #1967D2;\n",
              "      height: 32px;\n",
              "      padding: 0 0 0 0;\n",
              "      width: 32px;\n",
              "    }\n",
              "\n",
              "    .colab-df-convert:hover {\n",
              "      background-color: #E2EBFA;\n",
              "      box-shadow: 0px 1px 2px rgba(60, 64, 67, 0.3), 0px 1px 3px 1px rgba(60, 64, 67, 0.15);\n",
              "      fill: #174EA6;\n",
              "    }\n",
              "\n",
              "    [theme=dark] .colab-df-convert {\n",
              "      background-color: #3B4455;\n",
              "      fill: #D2E3FC;\n",
              "    }\n",
              "\n",
              "    [theme=dark] .colab-df-convert:hover {\n",
              "      background-color: #434B5C;\n",
              "      box-shadow: 0px 1px 3px 1px rgba(0, 0, 0, 0.15);\n",
              "      filter: drop-shadow(0px 1px 2px rgba(0, 0, 0, 0.3));\n",
              "      fill: #FFFFFF;\n",
              "    }\n",
              "  </style>\n",
              "\n",
              "      <script>\n",
              "        const buttonEl =\n",
              "          document.querySelector('#df-3919ab31-3375-41e7-ac4e-6aa54169e1c5 button.colab-df-convert');\n",
              "        buttonEl.style.display =\n",
              "          google.colab.kernel.accessAllowed ? 'block' : 'none';\n",
              "\n",
              "        async function convertToInteractive(key) {\n",
              "          const element = document.querySelector('#df-3919ab31-3375-41e7-ac4e-6aa54169e1c5');\n",
              "          const dataTable =\n",
              "            await google.colab.kernel.invokeFunction('convertToInteractive',\n",
              "                                                     [key], {});\n",
              "          if (!dataTable) return;\n",
              "\n",
              "          const docLinkHtml = 'Like what you see? Visit the ' +\n",
              "            '<a target=\"_blank\" href=https://colab.research.google.com/notebooks/data_table.ipynb>data table notebook</a>'\n",
              "            + ' to learn more about interactive tables.';\n",
              "          element.innerHTML = '';\n",
              "          dataTable['output_type'] = 'display_data';\n",
              "          await google.colab.output.renderOutput(dataTable, element);\n",
              "          const docLink = document.createElement('div');\n",
              "          docLink.innerHTML = docLinkHtml;\n",
              "          element.appendChild(docLink);\n",
              "        }\n",
              "      </script>\n",
              "    </div>\n",
              "  </div>\n",
              "  "
            ]
          },
          "metadata": {},
          "execution_count": 7
        }
      ]
    },
    {
      "cell_type": "code",
      "source": [
        "new_index = [str(i) for i in [j for j in range(25)]]"
      ],
      "metadata": {
        "id": "jYAD1wYq8tSN"
      },
      "execution_count": 8,
      "outputs": []
    },
    {
      "cell_type": "code",
      "source": [
        "data.columns = new_index"
      ],
      "metadata": {
        "id": "6gPJWtpbCYfo"
      },
      "execution_count": 9,
      "outputs": []
    },
    {
      "cell_type": "code",
      "source": [
        "data.head(3)"
      ],
      "metadata": {
        "colab": {
          "base_uri": "https://localhost:8080/",
          "height": 584
        },
        "id": "EGq0Imt0CeVd",
        "outputId": "f1ce1913-11fe-452a-86eb-79b6fde4e80c"
      },
      "execution_count": 10,
      "outputs": [
        {
          "output_type": "execute_result",
          "data": {
            "text/plain": [
              "                                                   0  \\\n",
              "0  A  hindrance to operations   extracts from the...   \n",
              "1                                          Scorecard   \n",
              "2                  Coventry caught on counter by Flo   \n",
              "\n",
              "                                    1  \\\n",
              "0                           Scorecard   \n",
              "1                 The best lake scene   \n",
              "2  United s rivals on the road to Rio   \n",
              "\n",
              "                                               2  \\\n",
              "0                Hughes  instant hit buoys Blues   \n",
              "1                  Leader  German sleaze inquiry   \n",
              "2  Thatcher issues defence before trial by video   \n",
              "\n",
              "                                               3  \\\n",
              "0       Jack gets his skates on at ice cold Alex   \n",
              "1                                  Cheerio  boyo   \n",
              "2  Police help Smith lay down the law at Everton   \n",
              "\n",
              "                                             4  \\\n",
              "0       Chaos as Maracana builds up for United   \n",
              "1                     The main recommendations   \n",
              "2  Tale of Trautmann bears two more retellings   \n",
              "\n",
              "                                                   5  \\\n",
              "0  Depleted Leicester prevail as Elliott spoils E...   \n",
              "1                             Has Cubie killed fees    \n",
              "2                                England on the rack   \n",
              "\n",
              "                                                 6  \\\n",
              "0                 Hungry Spurs sense rich pickings   \n",
              "1                           Has Cubie killed fees    \n",
              "2  Pakistan retaliate with call for video of Walsh   \n",
              "\n",
              "                                      7  \\\n",
              "0     Gunners so wide of an easy target   \n",
              "1                Has Cubie killed fees    \n",
              "2  Cullinan continues his Cape monopoly   \n",
              "\n",
              "                                                   8  \\\n",
              "0      Derby raise a glass to Strupar s debut double   \n",
              "1  Hopkins  furious  at Foster s lack of Hannibal...   \n",
              "2             McGrath puts India out of their misery   \n",
              "\n",
              "                                          9  ...  \\\n",
              "0  Southgate strikes  Leeds pay the penalty  ...   \n",
              "1                    Has Cubie killed fees   ...   \n",
              "2            Blair Witch bandwagon rolls on  ...   \n",
              "\n",
              "                                         15  \\\n",
              "0  Flintoff injury piles on woe for England   \n",
              "1                      On the critical list   \n",
              "2               South Melbourne  Australia    \n",
              "\n",
              "                                                  16  \\\n",
              "0  Hunters threaten Jospin with new battle of the...   \n",
              "1                          The timing of their lives   \n",
              "2                                    Necaxa  Mexico    \n",
              "\n",
              "                                    17  \\\n",
              "0  Kohl s successor drawn into scandal   \n",
              "1                          Dear doctor   \n",
              "2                  Real Madrid  Spain    \n",
              "\n",
              "                                                  18  \\\n",
              "0               The difference between men and women   \n",
              "1  Irish court halts IRA man s extradition to Nor...   \n",
              "2                          Raja Casablanca  Morocco    \n",
              "\n",
              "                                                  19  \\\n",
              "0                Sara Denver  nurse turned solicitor   \n",
              "1  Burundi peace initiative fades after rebels re...   \n",
              "2                               Corinthians  Brazil    \n",
              "\n",
              "                                               20  \\\n",
              "0  Diana s landmine crusade put Tories in a panic   \n",
              "1            PE points the way forward to the ECB   \n",
              "2                              Tony s pet project   \n",
              "\n",
              "                                                  21                 22  \\\n",
              "0  Yeltsin s resignation caught opposition flat f...   Russian roulette   \n",
              "1  Campaigners keep up pressure on Nazi war crime...     Jane Ratcliffe   \n",
              "2                            Al Nassr  Saudi Arabia   Ideal Holmes show   \n",
              "\n",
              "                                                  23  \\\n",
              "0                                           Sold out   \n",
              "1  Yet more things you wouldn t know without the ...   \n",
              "2               Pinochet leaves hospital after tests   \n",
              "\n",
              "                             24  \n",
              "0            Recovering a title  \n",
              "1  Millennium bug fails to bite  \n",
              "2                  Useful links  \n",
              "\n",
              "[3 rows x 25 columns]"
            ],
            "text/html": [
              "\n",
              "  <div id=\"df-3aa6fefb-2f09-4c79-82d5-c1de6b212fa6\">\n",
              "    <div class=\"colab-df-container\">\n",
              "      <div>\n",
              "<style scoped>\n",
              "    .dataframe tbody tr th:only-of-type {\n",
              "        vertical-align: middle;\n",
              "    }\n",
              "\n",
              "    .dataframe tbody tr th {\n",
              "        vertical-align: top;\n",
              "    }\n",
              "\n",
              "    .dataframe thead th {\n",
              "        text-align: right;\n",
              "    }\n",
              "</style>\n",
              "<table border=\"1\" class=\"dataframe\">\n",
              "  <thead>\n",
              "    <tr style=\"text-align: right;\">\n",
              "      <th></th>\n",
              "      <th>0</th>\n",
              "      <th>1</th>\n",
              "      <th>2</th>\n",
              "      <th>3</th>\n",
              "      <th>4</th>\n",
              "      <th>5</th>\n",
              "      <th>6</th>\n",
              "      <th>7</th>\n",
              "      <th>8</th>\n",
              "      <th>9</th>\n",
              "      <th>...</th>\n",
              "      <th>15</th>\n",
              "      <th>16</th>\n",
              "      <th>17</th>\n",
              "      <th>18</th>\n",
              "      <th>19</th>\n",
              "      <th>20</th>\n",
              "      <th>21</th>\n",
              "      <th>22</th>\n",
              "      <th>23</th>\n",
              "      <th>24</th>\n",
              "    </tr>\n",
              "  </thead>\n",
              "  <tbody>\n",
              "    <tr>\n",
              "      <th>0</th>\n",
              "      <td>A  hindrance to operations   extracts from the...</td>\n",
              "      <td>Scorecard</td>\n",
              "      <td>Hughes  instant hit buoys Blues</td>\n",
              "      <td>Jack gets his skates on at ice cold Alex</td>\n",
              "      <td>Chaos as Maracana builds up for United</td>\n",
              "      <td>Depleted Leicester prevail as Elliott spoils E...</td>\n",
              "      <td>Hungry Spurs sense rich pickings</td>\n",
              "      <td>Gunners so wide of an easy target</td>\n",
              "      <td>Derby raise a glass to Strupar s debut double</td>\n",
              "      <td>Southgate strikes  Leeds pay the penalty</td>\n",
              "      <td>...</td>\n",
              "      <td>Flintoff injury piles on woe for England</td>\n",
              "      <td>Hunters threaten Jospin with new battle of the...</td>\n",
              "      <td>Kohl s successor drawn into scandal</td>\n",
              "      <td>The difference between men and women</td>\n",
              "      <td>Sara Denver  nurse turned solicitor</td>\n",
              "      <td>Diana s landmine crusade put Tories in a panic</td>\n",
              "      <td>Yeltsin s resignation caught opposition flat f...</td>\n",
              "      <td>Russian roulette</td>\n",
              "      <td>Sold out</td>\n",
              "      <td>Recovering a title</td>\n",
              "    </tr>\n",
              "    <tr>\n",
              "      <th>1</th>\n",
              "      <td>Scorecard</td>\n",
              "      <td>The best lake scene</td>\n",
              "      <td>Leader  German sleaze inquiry</td>\n",
              "      <td>Cheerio  boyo</td>\n",
              "      <td>The main recommendations</td>\n",
              "      <td>Has Cubie killed fees</td>\n",
              "      <td>Has Cubie killed fees</td>\n",
              "      <td>Has Cubie killed fees</td>\n",
              "      <td>Hopkins  furious  at Foster s lack of Hannibal...</td>\n",
              "      <td>Has Cubie killed fees</td>\n",
              "      <td>...</td>\n",
              "      <td>On the critical list</td>\n",
              "      <td>The timing of their lives</td>\n",
              "      <td>Dear doctor</td>\n",
              "      <td>Irish court halts IRA man s extradition to Nor...</td>\n",
              "      <td>Burundi peace initiative fades after rebels re...</td>\n",
              "      <td>PE points the way forward to the ECB</td>\n",
              "      <td>Campaigners keep up pressure on Nazi war crime...</td>\n",
              "      <td>Jane Ratcliffe</td>\n",
              "      <td>Yet more things you wouldn t know without the ...</td>\n",
              "      <td>Millennium bug fails to bite</td>\n",
              "    </tr>\n",
              "    <tr>\n",
              "      <th>2</th>\n",
              "      <td>Coventry caught on counter by Flo</td>\n",
              "      <td>United s rivals on the road to Rio</td>\n",
              "      <td>Thatcher issues defence before trial by video</td>\n",
              "      <td>Police help Smith lay down the law at Everton</td>\n",
              "      <td>Tale of Trautmann bears two more retellings</td>\n",
              "      <td>England on the rack</td>\n",
              "      <td>Pakistan retaliate with call for video of Walsh</td>\n",
              "      <td>Cullinan continues his Cape monopoly</td>\n",
              "      <td>McGrath puts India out of their misery</td>\n",
              "      <td>Blair Witch bandwagon rolls on</td>\n",
              "      <td>...</td>\n",
              "      <td>South Melbourne  Australia</td>\n",
              "      <td>Necaxa  Mexico</td>\n",
              "      <td>Real Madrid  Spain</td>\n",
              "      <td>Raja Casablanca  Morocco</td>\n",
              "      <td>Corinthians  Brazil</td>\n",
              "      <td>Tony s pet project</td>\n",
              "      <td>Al Nassr  Saudi Arabia</td>\n",
              "      <td>Ideal Holmes show</td>\n",
              "      <td>Pinochet leaves hospital after tests</td>\n",
              "      <td>Useful links</td>\n",
              "    </tr>\n",
              "  </tbody>\n",
              "</table>\n",
              "<p>3 rows × 25 columns</p>\n",
              "</div>\n",
              "      <button class=\"colab-df-convert\" onclick=\"convertToInteractive('df-3aa6fefb-2f09-4c79-82d5-c1de6b212fa6')\"\n",
              "              title=\"Convert this dataframe to an interactive table.\"\n",
              "              style=\"display:none;\">\n",
              "        \n",
              "  <svg xmlns=\"http://www.w3.org/2000/svg\" height=\"24px\"viewBox=\"0 0 24 24\"\n",
              "       width=\"24px\">\n",
              "    <path d=\"M0 0h24v24H0V0z\" fill=\"none\"/>\n",
              "    <path d=\"M18.56 5.44l.94 2.06.94-2.06 2.06-.94-2.06-.94-.94-2.06-.94 2.06-2.06.94zm-11 1L8.5 8.5l.94-2.06 2.06-.94-2.06-.94L8.5 2.5l-.94 2.06-2.06.94zm10 10l.94 2.06.94-2.06 2.06-.94-2.06-.94-.94-2.06-.94 2.06-2.06.94z\"/><path d=\"M17.41 7.96l-1.37-1.37c-.4-.4-.92-.59-1.43-.59-.52 0-1.04.2-1.43.59L10.3 9.45l-7.72 7.72c-.78.78-.78 2.05 0 2.83L4 21.41c.39.39.9.59 1.41.59.51 0 1.02-.2 1.41-.59l7.78-7.78 2.81-2.81c.8-.78.8-2.07 0-2.86zM5.41 20L4 18.59l7.72-7.72 1.47 1.35L5.41 20z\"/>\n",
              "  </svg>\n",
              "      </button>\n",
              "      \n",
              "  <style>\n",
              "    .colab-df-container {\n",
              "      display:flex;\n",
              "      flex-wrap:wrap;\n",
              "      gap: 12px;\n",
              "    }\n",
              "\n",
              "    .colab-df-convert {\n",
              "      background-color: #E8F0FE;\n",
              "      border: none;\n",
              "      border-radius: 50%;\n",
              "      cursor: pointer;\n",
              "      display: none;\n",
              "      fill: #1967D2;\n",
              "      height: 32px;\n",
              "      padding: 0 0 0 0;\n",
              "      width: 32px;\n",
              "    }\n",
              "\n",
              "    .colab-df-convert:hover {\n",
              "      background-color: #E2EBFA;\n",
              "      box-shadow: 0px 1px 2px rgba(60, 64, 67, 0.3), 0px 1px 3px 1px rgba(60, 64, 67, 0.15);\n",
              "      fill: #174EA6;\n",
              "    }\n",
              "\n",
              "    [theme=dark] .colab-df-convert {\n",
              "      background-color: #3B4455;\n",
              "      fill: #D2E3FC;\n",
              "    }\n",
              "\n",
              "    [theme=dark] .colab-df-convert:hover {\n",
              "      background-color: #434B5C;\n",
              "      box-shadow: 0px 1px 3px 1px rgba(0, 0, 0, 0.15);\n",
              "      filter: drop-shadow(0px 1px 2px rgba(0, 0, 0, 0.3));\n",
              "      fill: #FFFFFF;\n",
              "    }\n",
              "  </style>\n",
              "\n",
              "      <script>\n",
              "        const buttonEl =\n",
              "          document.querySelector('#df-3aa6fefb-2f09-4c79-82d5-c1de6b212fa6 button.colab-df-convert');\n",
              "        buttonEl.style.display =\n",
              "          google.colab.kernel.accessAllowed ? 'block' : 'none';\n",
              "\n",
              "        async function convertToInteractive(key) {\n",
              "          const element = document.querySelector('#df-3aa6fefb-2f09-4c79-82d5-c1de6b212fa6');\n",
              "          const dataTable =\n",
              "            await google.colab.kernel.invokeFunction('convertToInteractive',\n",
              "                                                     [key], {});\n",
              "          if (!dataTable) return;\n",
              "\n",
              "          const docLinkHtml = 'Like what you see? Visit the ' +\n",
              "            '<a target=\"_blank\" href=https://colab.research.google.com/notebooks/data_table.ipynb>data table notebook</a>'\n",
              "            + ' to learn more about interactive tables.';\n",
              "          element.innerHTML = '';\n",
              "          dataTable['output_type'] = 'display_data';\n",
              "          await google.colab.output.renderOutput(dataTable, element);\n",
              "          const docLink = document.createElement('div');\n",
              "          docLink.innerHTML = docLinkHtml;\n",
              "          element.appendChild(docLink);\n",
              "        }\n",
              "      </script>\n",
              "    </div>\n",
              "  </div>\n",
              "  "
            ]
          },
          "metadata": {},
          "execution_count": 10
        }
      ]
    },
    {
      "cell_type": "code",
      "source": [
        "\" \".join(str(x) for x in data.iloc[1,0:25])"
      ],
      "metadata": {
        "colab": {
          "base_uri": "https://localhost:8080/",
          "height": 105
        },
        "id": "zL_dYtYICm1G",
        "outputId": "6426f404-cf06-4952-8bd5-a9fd394abb2f"
      },
      "execution_count": 11,
      "outputs": [
        {
          "output_type": "execute_result",
          "data": {
            "text/plain": [
              "'Scorecard The best lake scene Leader  German sleaze inquiry Cheerio  boyo The main recommendations Has Cubie killed fees  Has Cubie killed fees  Has Cubie killed fees  Hopkins  furious  at Foster s lack of Hannibal appetite Has Cubie killed fees  A tale of two tails I say what I like and I like what I say Elbows  Eyes and Nipples Task force to assess risk of asteroid collision How I found myself at last On the critical list The timing of their lives Dear doctor Irish court halts IRA man s extradition to Northern Ireland Burundi peace initiative fades after rebels reject Mandela as mediator PE points the way forward to the ECB Campaigners keep up pressure on Nazi war crimes suspect Jane Ratcliffe Yet more things you wouldn t know without the movies Millennium bug fails to bite'"
            ],
            "application/vnd.google.colaboratory.intrinsic+json": {
              "type": "string"
            }
          },
          "metadata": {},
          "execution_count": 11
        }
      ]
    },
    {
      "cell_type": "code",
      "source": [
        "len(data.index)"
      ],
      "metadata": {
        "colab": {
          "base_uri": "https://localhost:8080/",
          "height": 0
        },
        "id": "ohSwhg64kVnc",
        "outputId": "aa75fc2d-1651-4b3c-aa90-143900b947c4"
      },
      "execution_count": 13,
      "outputs": [
        {
          "output_type": "execute_result",
          "data": {
            "text/plain": [
              "3975"
            ]
          },
          "metadata": {},
          "execution_count": 13
        }
      ]
    },
    {
      "cell_type": "code",
      "source": [
        "headlines = []\n",
        "for row in range(0 , len(data.index)) : \n",
        "  headlines.append(' '.join(str(x) for x in data.iloc[row, 0:25]))"
      ],
      "metadata": {
        "id": "KZ4azKxoC93Q"
      },
      "execution_count": 14,
      "outputs": []
    },
    {
      "cell_type": "code",
      "source": [
        "headlines[1]"
      ],
      "metadata": {
        "colab": {
          "base_uri": "https://localhost:8080/",
          "height": 105
        },
        "id": "sPy7ljqJkrI_",
        "outputId": "82cfb9a0-508d-42ab-d049-4619231bffbc"
      },
      "execution_count": 19,
      "outputs": [
        {
          "output_type": "execute_result",
          "data": {
            "text/plain": [
              "'Scorecard The best lake scene Leader  German sleaze inquiry Cheerio  boyo The main recommendations Has Cubie killed fees  Has Cubie killed fees  Has Cubie killed fees  Hopkins  furious  at Foster s lack of Hannibal appetite Has Cubie killed fees  A tale of two tails I say what I like and I like what I say Elbows  Eyes and Nipples Task force to assess risk of asteroid collision How I found myself at last On the critical list The timing of their lives Dear doctor Irish court halts IRA man s extradition to Northern Ireland Burundi peace initiative fades after rebels reject Mandela as mediator PE points the way forward to the ECB Campaigners keep up pressure on Nazi war crimes suspect Jane Ratcliffe Yet more things you wouldn t know without the movies Millennium bug fails to bite'"
            ],
            "application/vnd.google.colaboratory.intrinsic+json": {
              "type": "string"
            }
          },
          "metadata": {},
          "execution_count": 19
        }
      ]
    },
    {
      "cell_type": "code",
      "source": [
        "from sklearn.feature_extraction.text import CountVectorizer\n",
        "from sklearn.ensemble import RandomForestClassifier"
      ],
      "metadata": {
        "id": "JRBEF2ZVkv73"
      },
      "execution_count": 20,
      "outputs": []
    },
    {
      "cell_type": "code",
      "source": [
        "countvector = CountVectorizer(ngram_range = (2,2))\n",
        "traindataset = countvector.fit_transform(headlines)"
      ],
      "metadata": {
        "id": "rBS6MvtKlf_v"
      },
      "execution_count": 21,
      "outputs": []
    },
    {
      "cell_type": "code",
      "source": [
        "rc = RandomForestClassifier(n_estimators = 200, criterion = 'entropy')\n",
        "rc.fit(traindataset,train['Label'])"
      ],
      "metadata": {
        "colab": {
          "base_uri": "https://localhost:8080/",
          "height": 0
        },
        "id": "sUDeKqK3l1Ew",
        "outputId": "af596754-2aba-457f-8d27-0d965dca4681"
      },
      "execution_count": 23,
      "outputs": [
        {
          "output_type": "execute_result",
          "data": {
            "text/plain": [
              "RandomForestClassifier(criterion='entropy', n_estimators=200)"
            ]
          },
          "metadata": {},
          "execution_count": 23
        }
      ]
    },
    {
      "cell_type": "code",
      "source": [
        "test_headlines = []\n",
        "for row in range(0 , len(test.index)) : \n",
        "  test_headlines.append(' '.join(str(x) for x in test.iloc[row, 2:27]))\n",
        "  "
      ],
      "metadata": {
        "id": "mVqkYWc1niYq"
      },
      "execution_count": 24,
      "outputs": []
    },
    {
      "cell_type": "code",
      "source": [
        "test_headlines[1]"
      ],
      "metadata": {
        "colab": {
          "base_uri": "https://localhost:8080/",
          "height": 122
        },
        "id": "6IG3FdVfo9eS",
        "outputId": "f8f94ba9-83f0-4529-a3b3-d839ab52208c"
      },
      "execution_count": 26,
      "outputs": [
        {
          "output_type": "execute_result",
          "data": {
            "text/plain": [
              "'Moscow-&gt;Beijing high speed train will reduce trip time to 48 hours, from the current 7 days Two ancient tombs were discovered in Egypt on Sunday, with one representing a symbolic burial site of the god Osiris while another is claimed to be a previously unknown pharaonic tomb. China complains to Pyongyang after N Korean soldier kills villagers | World news Scotland Headed Towards Being Fossil Fuel-Free by 2030 - Renewable energy projects combined with energy savings could decarbonise the countrys power sector. \"We need to see the phasing out of conventional generation in Scotland.\" Prime Minister Shinzo Abe said Monday he will express remorse for Japans actions in World War II while highlighting the countrys bid to contribute more actively to world peace in his statement marking the 70th anniversary of the wars end in August. Sex slave at centre of Prince Andrew scandal fled to Australia as a teen Gay relative of Hamas founder faces deportation from Canada: Christian convert, 24, whose five uncles were jailed in Israel for terror activity, says hell be killed if forced to return to West Bank The number of female drug addicts in Iran has almost doubled since 2007, with more than 50% starting between the ages of 15 and 19 After Decades of Searching, the Causeway for the Great Pyramid of Egypt has been Found India lost 64 tigers in 2014 Lizard Squad hacking of Sony was \"huge marketing\" scheme to launch \"Lizard Stresser\", a paid hacking service. Russia \\'may face chaos\\' if extra sanctions imposed: Germany The Saudi air and land forces carry out an attack on ISIS within its territory ISIL is reportedly setting up a bank in attempt to \\'legitimatise\\' itself as a nation state Israel to brand anti-assimilation group Lehava as terrorists The Islamic State has approved a 2015 budget of $2 billion, with an expected surplus of $250 million and has opened an Islamic Bank in Mosul. The budget reportedly includes monthly wages for the poor, disabled and families of individuals killed in airstrikes carried out by US-led coalition forces Iceland To Withdraw EU Application, Lift Capital Controls Blackfield Capital Founder Goes Missing: The value of the ruble isn\\'t the only thing that is vanishing in Russia. A Moscow hedge fund chief executive has disappeared, along with all the money in the firm\\'s accounts Rocket stage crashes back to Earth in rural Chinese village. 2 Dead as Aircraft Bombs Greek Tanker in Libyan Port Belgian murderer Frank Van Den Bleeken to die at own request. A Belgian murderer and rapist serving a life sentence is to be allowed to die by lethal injection next Sunday following a ruling under laws in Belgium permitting people to request euthanasia. Czech President criticizes Ukrainian PM; says Yatsenyuk is \\'prime minister of war\\' 3 Vietnamese jets join search for 16 missing Filipinos in Bahamian cargo ship sinking France seeks end to Russia sanctions over Ukraine China scraps rare earths caps'"
            ],
            "application/vnd.google.colaboratory.intrinsic+json": {
              "type": "string"
            }
          },
          "metadata": {},
          "execution_count": 26
        }
      ]
    },
    {
      "cell_type": "code",
      "source": [
        "test_dataset = countvector.transform(test_headlines)\n",
        "prediction = rc.predict(test_dataset)"
      ],
      "metadata": {
        "id": "_zra_W2-o_qw"
      },
      "execution_count": 27,
      "outputs": []
    },
    {
      "cell_type": "code",
      "source": [
        "prediction"
      ],
      "metadata": {
        "colab": {
          "base_uri": "https://localhost:8080/",
          "height": 0
        },
        "id": "1tffVBRqp9IZ",
        "outputId": "7c36125f-79bc-4251-8816-bf7db611fc6d"
      },
      "execution_count": 29,
      "outputs": [
        {
          "output_type": "execute_result",
          "data": {
            "text/plain": [
              "array([1, 0, 0, 1, 1, 0, 0, 0, 0, 0, 1, 1, 1, 1, 0, 1, 0, 0, 1, 0, 1, 1,\n",
              "       1, 1, 0, 0, 1, 0, 1, 1, 1, 0, 0, 1, 0, 1, 1, 0, 0, 1, 0, 0, 1, 0,\n",
              "       1, 0, 0, 1, 0, 1, 0, 1, 0, 1, 0, 0, 0, 0, 1, 1, 0, 0, 1, 1, 0, 1,\n",
              "       1, 1, 0, 1, 1, 0, 0, 1, 0, 1, 1, 1, 0, 1, 0, 0, 1, 1, 0, 0, 1, 1,\n",
              "       0, 0, 0, 1, 1, 1, 1, 0, 1, 0, 0, 1, 0, 0, 1, 0, 1, 0, 0, 0, 0, 1,\n",
              "       1, 0, 0, 1, 1, 1, 0, 1, 1, 0, 0, 1, 0, 1, 1, 0, 0, 1, 0, 1, 1, 1,\n",
              "       1, 0, 1, 0, 1, 0, 0, 0, 0, 0, 1, 1, 0, 0, 0, 0, 0, 0, 0, 1, 0, 0,\n",
              "       1, 1, 1, 0, 0, 0, 0, 0, 0, 1, 1, 0, 0, 0, 1, 1, 0, 1, 0, 1, 1, 0,\n",
              "       1, 1, 0, 0, 1, 0, 0, 0, 1, 0, 1, 1, 0, 1, 1, 1, 1, 1, 1, 1, 0, 0,\n",
              "       1, 1, 1, 0, 0, 1, 1, 0, 0, 1, 0, 0, 1, 1, 0, 0, 1, 0, 1, 0, 0, 0,\n",
              "       1, 1, 1, 0, 1, 0, 1, 1, 0, 0, 1, 0, 0, 1, 0, 0, 0, 1, 0, 1, 1, 1,\n",
              "       0, 0, 1, 1, 1, 0, 0, 1, 0, 0, 1, 0, 1, 0, 1, 1, 1, 1, 1, 1, 1, 1,\n",
              "       1, 0, 1, 1, 1, 1, 1, 1, 0, 1, 1, 1, 1, 0, 1, 1, 1, 1, 1, 1, 1, 1,\n",
              "       1, 1, 1, 0, 1, 1, 1, 1, 1, 1, 0, 1, 1, 1, 1, 1, 1, 1, 1, 1, 1, 1,\n",
              "       1, 1, 1, 1, 1, 1, 1, 1, 1, 0, 1, 1, 1, 1, 0, 1, 1, 1, 1, 1, 1, 1,\n",
              "       1, 1, 1, 1, 1, 1, 0, 1, 0, 1, 1, 1, 1, 1, 1, 0, 1, 1, 1, 0, 1, 1,\n",
              "       1, 1, 1, 1, 1, 1, 1, 1, 0, 1, 1, 0, 1, 1, 1, 1, 0, 1, 0, 1, 0, 1,\n",
              "       1, 1, 1, 1])"
            ]
          },
          "metadata": {},
          "execution_count": 29
        }
      ]
    },
    {
      "cell_type": "code",
      "source": [
        "from sklearn.metrics import classification_report, confusion_matrix , accuracy_score"
      ],
      "metadata": {
        "id": "pTyMdPGCppzn"
      },
      "execution_count": 30,
      "outputs": []
    },
    {
      "cell_type": "code",
      "source": [
        "matrix = confusion_matrix(test[\"Label\"],prediction)\n",
        "print(matrix)"
      ],
      "metadata": {
        "colab": {
          "base_uri": "https://localhost:8080/",
          "height": 0
        },
        "id": "mUTjXsYZqDuX",
        "outputId": "8aa73b54-fa3d-4c16-d776-d359f437703a"
      },
      "execution_count": 31,
      "outputs": [
        {
          "output_type": "stream",
          "name": "stdout",
          "text": [
            "[[142  44]\n",
            " [  6 186]]\n"
          ]
        }
      ]
    },
    {
      "cell_type": "code",
      "source": [
        "score = accuracy_score(test['Label'], prediction)\n",
        "score"
      ],
      "metadata": {
        "colab": {
          "base_uri": "https://localhost:8080/",
          "height": 0
        },
        "id": "go35aioZq66P",
        "outputId": "ece256a0-b27b-496b-bc48-aa9a2b17840f"
      },
      "execution_count": 33,
      "outputs": [
        {
          "output_type": "execute_result",
          "data": {
            "text/plain": [
              "0.8677248677248677"
            ]
          },
          "metadata": {},
          "execution_count": 33
        }
      ]
    },
    {
      "cell_type": "code",
      "source": [
        "print(classification_report(test['Label'], prediction))"
      ],
      "metadata": {
        "colab": {
          "base_uri": "https://localhost:8080/",
          "height": 0
        },
        "id": "GwFS5-yVrFm3",
        "outputId": "420eda0f-d26d-4454-b1dc-d970d4646e2c"
      },
      "execution_count": 35,
      "outputs": [
        {
          "output_type": "stream",
          "name": "stdout",
          "text": [
            "              precision    recall  f1-score   support\n",
            "\n",
            "           0       0.96      0.76      0.85       186\n",
            "           1       0.81      0.97      0.88       192\n",
            "\n",
            "    accuracy                           0.87       378\n",
            "   macro avg       0.88      0.87      0.87       378\n",
            "weighted avg       0.88      0.87      0.87       378\n",
            "\n"
          ]
        }
      ]
    },
    {
      "cell_type": "code",
      "source": [],
      "metadata": {
        "id": "W6IlEXVwrP11"
      },
      "execution_count": null,
      "outputs": []
    }
  ]
}